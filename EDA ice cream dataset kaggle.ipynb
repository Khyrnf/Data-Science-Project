{
 "cells": [
  {
   "cell_type": "markdown",
   "id": "d21c9b06",
   "metadata": {},
   "source": [
    "# EDA based on kaggle dataset (ice cream analysis)"
   ]
  },
  {
   "cell_type": "code",
   "execution_count": 2,
   "id": "2668add7",
   "metadata": {},
   "outputs": [],
   "source": [
    "import pandas as pd\n",
    "import matplotlib.pyplot as plt\n",
    "import seaborn as sns"
   ]
  },
  {
   "cell_type": "code",
   "execution_count": 4,
   "id": "8d659153",
   "metadata": {},
   "outputs": [],
   "source": [
    "flavor = pd.read_csv('icecream_flavors.csv')\n",
    "sales = pd.read_csv('icecream_sales.csv')\n",
    "temperature = pd.read_csv('icecream_temp.csv')\n",
    "week = pd.read_csv('sales_we.csv')"
   ]
  },
  {
   "cell_type": "code",
   "execution_count": 44,
   "id": "ec3b0515",
   "metadata": {},
   "outputs": [
    {
     "name": "stdout",
     "output_type": "stream",
     "text": [
      "<class 'pandas.core.frame.DataFrame'>\n",
      "RangeIndex: 208 entries, 0 to 207\n",
      "Data columns (total 3 columns):\n",
      " #   Column      Non-Null Count  Dtype \n",
      "---  ------      --------------  ----- \n",
      " 0   week        208 non-null    int64 \n",
      " 1   units sold  208 non-null    int64 \n",
      " 2   flavor      208 non-null    object\n",
      "dtypes: int64(2), object(1)\n",
      "memory usage: 5.0+ KB\n",
      "<class 'pandas.core.frame.DataFrame'>\n",
      "RangeIndex: 365 entries, 0 to 364\n",
      "Data columns (total 2 columns):\n",
      " #   Column  Non-Null Count  Dtype  \n",
      "---  ------  --------------  -----  \n",
      " 0   date    365 non-null    object \n",
      " 1   sales   365 non-null    float64\n",
      "dtypes: float64(1), object(1)\n",
      "memory usage: 5.8+ KB\n",
      "<class 'pandas.core.frame.DataFrame'>\n",
      "RangeIndex: 365 entries, 0 to 364\n",
      "Data columns (total 2 columns):\n",
      " #   Column       Non-Null Count  Dtype  \n",
      "---  ------       --------------  -----  \n",
      " 0   temperature  365 non-null    int64  \n",
      " 1   sales        365 non-null    float64\n",
      "dtypes: float64(1), int64(1)\n",
      "memory usage: 5.8 KB\n",
      "<class 'pandas.core.frame.DataFrame'>\n",
      "RangeIndex: 365 entries, 0 to 364\n",
      "Data columns (total 4 columns):\n",
      " #   Column    Non-Null Count  Dtype  \n",
      "---  ------    --------------  -----  \n",
      " 0   date      365 non-null    object \n",
      " 1   sales     365 non-null    float64\n",
      " 2   days      365 non-null    object \n",
      " 3   week_end  365 non-null    object \n",
      "dtypes: float64(1), object(3)\n",
      "memory usage: 11.5+ KB\n"
     ]
    }
   ],
   "source": [
    "all_data = [flavor, sales, temperature, week]\n",
    "for data in all_data:\n",
    "    data.info()"
   ]
  },
  {
   "cell_type": "code",
   "execution_count": 20,
   "id": "e6b65494",
   "metadata": {},
   "outputs": [
    {
     "name": "stdout",
     "output_type": "stream",
     "text": [
      "flavor duplicate val : False    208\n",
      "dtype: int64\n",
      "\n",
      "sales duplicate val : False    365\n",
      "dtype: int64\n",
      "\n",
      "temperature duplicate val : False    364\n",
      "True       1\n",
      "dtype: int64\n",
      "\n",
      "sales week duplicate val : False    365\n",
      "dtype: int64\n"
     ]
    }
   ],
   "source": [
    "print('flavor duplicate val :', flavor.duplicated().value_counts())\n",
    "print('')\n",
    "print('sales duplicate val :', sales.duplicated().value_counts())\n",
    "print('')\n",
    "print('temperature duplicate val :', temperature.duplicated().value_counts())\n",
    "print('')\n",
    "print('sales week duplicate val :', week.duplicated().value_counts())"
   ]
  },
  {
   "cell_type": "markdown",
   "id": "b018d0e0",
   "metadata": {},
   "source": [
    "from the info above, we can see that this dataset have no null values and have 1 duplicate value in temperature dataset, so we should drop the duplicate value"
   ]
  },
  {
   "cell_type": "code",
   "execution_count": 21,
   "id": "6584eff1",
   "metadata": {},
   "outputs": [
    {
     "data": {
      "text/plain": [
       "(364, 2)"
      ]
     },
     "execution_count": 21,
     "metadata": {},
     "output_type": "execute_result"
    }
   ],
   "source": [
    "#drop the duplicate value in temperature dataset\n",
    "temperature.drop_duplicates(inplace=True)\n",
    "temperature.shape"
   ]
  },
  {
   "cell_type": "markdown",
   "id": "623929c5",
   "metadata": {},
   "source": [
    "after the data clean from null value and duplicate value, now we will describe the data"
   ]
  },
  {
   "cell_type": "code",
   "execution_count": 46,
   "id": "39f4ab22",
   "metadata": {},
   "outputs": [
    {
     "name": "stdout",
     "output_type": "stream",
     "text": [
      "             week  units sold\n",
      "count  208.000000  208.000000\n",
      "mean    26.500000   10.091346\n",
      "std     15.044539    5.666779\n",
      "min      1.000000    1.000000\n",
      "25%     13.750000    5.000000\n",
      "50%     26.500000   10.000000\n",
      "75%     39.250000   15.000000\n",
      "max     52.000000   20.000000\n",
      "            sales\n",
      "count  365.000000\n",
      "mean   104.499507\n",
      "std     26.942417\n",
      "min     58.660000\n",
      "25%     85.270000\n",
      "50%    102.070000\n",
      "75%    123.040000\n",
      "max    184.110000\n",
      "       temperature       sales\n",
      "count   365.000000  365.000000\n",
      "mean     71.980822   52.103616\n",
      "std      13.258510   15.989004\n",
      "min      39.000000   11.880000\n",
      "25%      63.000000   40.650000\n",
      "50%      73.000000   53.620000\n",
      "75%      82.000000   63.630000\n",
      "max     101.000000   89.290000\n",
      "            sales\n",
      "count  365.000000\n",
      "mean   104.499507\n",
      "std     26.942417\n",
      "min     58.660000\n",
      "25%     85.270000\n",
      "50%    102.070000\n",
      "75%    123.040000\n",
      "max    184.110000\n"
     ]
    }
   ],
   "source": [
    "#describe numerical\n",
    "for num in all_data:\n",
    "    print(num.describe())"
   ]
  },
  {
   "cell_type": "code",
   "execution_count": 47,
   "id": "31618ebe",
   "metadata": {
    "scrolled": true
   },
   "outputs": [
    {
     "name": "stdout",
     "output_type": "stream",
     "text": [
      "       flavor\n",
      "count     208\n",
      "unique      4\n",
      "top     lemon\n",
      "freq       52\n",
      "              date\n",
      "count          365\n",
      "unique         365\n",
      "top     12/18/2019\n",
      "freq             1\n",
      "              date     days week_end\n",
      "count          365      365      365\n",
      "unique         365        7        2\n",
      "top     12/18/2019  Tuesday       No\n",
      "freq             1       53      261\n"
     ]
    }
   ],
   "source": [
    "#describe categorical\n",
    "oncat = [flavor, sales, week]\n",
    "for cat in oncat:\n",
    "    print(cat.describe(include='O'))"
   ]
  },
  {
   "cell_type": "markdown",
   "id": "cbf6db00",
   "metadata": {},
   "source": [
    "### Flavor"
   ]
  },
  {
   "cell_type": "code",
   "execution_count": 23,
   "id": "9f604efb",
   "metadata": {},
   "outputs": [
    {
     "data": {
      "text/plain": [
       "Index(['week', 'units sold', 'flavor'], dtype='object')"
      ]
     },
     "execution_count": 23,
     "metadata": {},
     "output_type": "execute_result"
    }
   ],
   "source": [
    "flavor.columns"
   ]
  },
  {
   "cell_type": "code",
   "execution_count": 13,
   "id": "ed800bec",
   "metadata": {},
   "outputs": [
    {
     "data": {
      "text/plain": [
       "chocolate     52\n",
       "lemon         52\n",
       "strawberry    52\n",
       "vanilla       52\n",
       "Name: flavor, dtype: int64"
      ]
     },
     "execution_count": 13,
     "metadata": {},
     "output_type": "execute_result"
    }
   ],
   "source": [
    "flavor.flavor.value_counts()"
   ]
  },
  {
   "cell_type": "code",
   "execution_count": 6,
   "id": "28e3af3f",
   "metadata": {},
   "outputs": [
    {
     "data": {
      "image/png": "[encoded data removed]",
      "text/plain": [
       "<Figure size 432x288 with 1 Axes>"
      ]
     },
     "metadata": {
      "needs_background": "light"
     },
     "output_type": "display_data"
    }
   ],
   "source": [
    "sns.countplot(x = 'flavor', data = flavor, palette='Set3')\n",
    "plt.title('Ice Cream Flavors sold each week')\n",
    "plt.show()"
   ]
  },
  {
   "cell_type": "code",
   "execution_count": 19,
   "id": "588546d8",
   "metadata": {},
   "outputs": [
    {
     "data": {
      "image/png": "[encoded data removed]",
      "text/plain": [
       "<Figure size 432x288 with 1 Axes>"
      ]
     },
     "metadata": {},
     "output_type": "display_data"
    }
   ],
   "source": [
    "cl = ['#65362f', '#fffc9e', '#ffad9e', '#fffef0']\n",
    "flavorc = flavor['flavor'].value_counts()\n",
    "plt.figure(figsize=(6,4))\n",
    "plt.pie(flavorc, autopct='%1.1f%%', labels=flavorc.index, colors=cl);\n",
    "plt.title('ice cream percentage');"
   ]
  },
  {
   "cell_type": "markdown",
   "id": "cf32c111",
   "metadata": {},
   "source": [
    "### Temperature"
   ]
  },
  {
   "cell_type": "code",
   "execution_count": 25,
   "id": "16c20c65",
   "metadata": {},
   "outputs": [
    {
     "data": {
      "text/plain": [
       "Index(['temperature', 'sales'], dtype='object')"
      ]
     },
     "execution_count": 25,
     "metadata": {},
     "output_type": "execute_result"
    }
   ],
   "source": [
    "temperature.columns"
   ]
  },
  {
   "cell_type": "code",
   "execution_count": 28,
   "id": "d2af6fc4",
   "metadata": {},
   "outputs": [
    {
     "data": {
      "image/png": "[encoded data removed]",
      "text/plain": [
       "<Figure size 432x288 with 1 Axes>"
      ]
     },
     "metadata": {
      "needs_background": "light"
     },
     "output_type": "display_data"
    }
   ],
   "source": [
    "sns.scatterplot(x=temperature['sales'], y=temperature['temperature']);"
   ]
  },
  {
   "cell_type": "markdown",
   "id": "cbd624b7",
   "metadata": {},
   "source": [
    "### Week"
   ]
  },
  {
   "cell_type": "code",
   "execution_count": 29,
   "id": "76906edc",
   "metadata": {},
   "outputs": [
    {
     "data": {
      "text/plain": [
       "Index(['date', 'sales', 'days', 'week_end'], dtype='object')"
      ]
     },
     "execution_count": 29,
     "metadata": {},
     "output_type": "execute_result"
    }
   ],
   "source": [
    "week.columns"
   ]
  },
  {
   "cell_type": "code",
   "execution_count": 49,
   "id": "9f24c8dd",
   "metadata": {},
   "outputs": [
    {
     "data": {
      "text/plain": [
       "Tuesday      53\n",
       "Wednesday    52\n",
       "Sunday       52\n",
       "Monday       52\n",
       "Thursday     52\n",
       "Friday       52\n",
       "Saturday     52\n",
       "Name: days, dtype: int64"
      ]
     },
     "execution_count": 49,
     "metadata": {},
     "output_type": "execute_result"
    }
   ],
   "source": [
    "week.days.value_counts()"
   ]
  },
  {
   "cell_type": "code",
   "execution_count": 48,
   "id": "bc208db7",
   "metadata": {},
   "outputs": [
    {
     "data": {
      "image/png": "[encoded data removed]",
      "text/plain": [
       "<Figure size 504x360 with 1 Axes>"
      ]
     },
     "metadata": {
      "needs_background": "light"
     },
     "output_type": "display_data"
    }
   ],
   "source": [
    "plt.figure(figsize=(7,5))\n",
    "sns.countplot(x=week['days'], palette='Set2');"
   ]
  },
  {
   "cell_type": "code",
   "execution_count": 54,
   "id": "39a9e65f",
   "metadata": {},
   "outputs": [
    {
     "data": {
      "image/png": "[encoded data removed]",
      "text/plain": [
       "<Figure size 432x288 with 1 Axes>"
      ]
     },
     "metadata": {},
     "output_type": "display_data"
    }
   ],
   "source": [
    "pl = ['#8cd4c5', '#e6a899', '#99a3e6', '#dd99e6', '#97d47d', '#d7c419', '#e4c3a0']\n",
    "days = week['days'].value_counts()\n",
    "plt.figure(figsize=(6,4))\n",
    "plt.pie(days, autopct='%1.1f%%', labels=days.index, colors=pl);"
   ]
  },
  {
   "cell_type": "code",
   "execution_count": 56,
   "id": "d0e94a40",
   "metadata": {},
   "outputs": [
    {
     "data": {
      "image/png": "[encoded data removed]",
      "text/plain": [
       "<Figure size 432x288 with 1 Axes>"
      ]
     },
     "metadata": {
      "needs_background": "light"
     },
     "output_type": "display_data"
    }
   ],
   "source": [
    "plt.figure(figsize=(6,4))\n",
    "sns.countplot(x=week['week_end'], palette='Set2');"
   ]
  },
  {
   "cell_type": "markdown",
   "id": "d7c9a350",
   "metadata": {},
   "source": [
    "## Insight\n",
    "Flavor = The number of sales each week is the same for all the flavor variants, it can be concluded that the flavor variant has no effect on the customer or the customer likes all the variants so that there is no difference in sales. \n",
    "\n",
    "Temperature = Temperature has a very significant effect on sales because when the weather gets hotter, more consumers buy ice cream.\n",
    "\n",
    "Week = The average number of sales in that year is almost the same (52) and consumers mostly buy ice cream on weekdays rather than weekends."
   ]
  }
 ],
 "metadata": {
  "kernelspec": {
   "display_name": "Python 3",
   "language": "python",
   "name": "python3"
  },
  "language_info": {
   "codemirror_mode": {
    "name": "ipython",
    "version": 3
   },
   "file_extension": ".py",
   "mimetype": "text/x-python",
   "name": "python",
   "nbconvert_exporter": "python",
   "pygments_lexer": "ipython3",
   "version": "3.8.8"
  }
 },
 "nbformat": 4,
 "nbformat_minor": 5
}
